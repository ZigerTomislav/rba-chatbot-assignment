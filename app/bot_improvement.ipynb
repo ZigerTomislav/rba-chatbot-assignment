{
 "cells": [
  {
   "cell_type": "markdown",
   "id": "a6a1bd697b7d5855",
   "metadata": {},
   "source": [
    "# Pokušaj poboljšanja bota"
   ]
  },
  {
   "cell_type": "code",
   "id": "initial_id",
   "metadata": {
    "ExecuteTime": {
     "end_time": "2025-09-18T23:55:24.515170Z",
     "start_time": "2025-09-18T23:55:23.897427Z"
    }
   },
   "source": [
    "import requests\n",
    "import models\n",
    "import os\n",
    "from dotenv import load_dotenv\n",
    "import util\n",
    "import bot_my_version\n",
    "import pandas as pd"
   ],
   "outputs": [],
   "execution_count": 1
  },
  {
   "cell_type": "code",
   "id": "cf2e613ab50bfcf7",
   "metadata": {
    "ExecuteTime": {
     "end_time": "2025-09-18T23:55:24.520630Z",
     "start_time": "2025-09-18T23:55:24.516188Z"
    }
   },
   "source": "data_handler = util.DataHandler()",
   "outputs": [],
   "execution_count": 2
  },
  {
   "cell_type": "markdown",
   "id": "d09a00a547747d5b",
   "metadata": {},
   "source": [
    "Dodajem pomoćnu metodu za accuracy, ovdje ću lokalno testirati \"bot_my_version\" jer mi je jednostavnije, ali naravno možemo ga jednostavno zamijeniti sa originalnim botom i hostati"
   ]
  },
  {
   "cell_type": "code",
   "id": "b7b437e35e212548",
   "metadata": {
    "ExecuteTime": {
     "end_time": "2025-09-18T23:55:24.523335Z",
     "start_time": "2025-09-18T23:55:24.521295Z"
    }
   },
   "source": [
    "def get_accuracy(x, y):\n",
    "    count = 0\n",
    "    for message, intent in zip(x, y):\n",
    "        pred_response = bot_my_version.predict(message)\n",
    "        pred = models.PromptResponse(**pred_response)\n",
    "        if pred.intent == intent:\n",
    "            count += 1\n",
    "    return count / len(x)"
   ],
   "outputs": [],
   "execution_count": 3
  },
  {
   "cell_type": "markdown",
   "id": "40cf791ec280b7a6",
   "metadata": {},
   "source": [
    "Ovdje spajamo train dataset i \"teški\" test dataset (dataset_test_hard.csv), pa želimo vidjeti hoće li model bolje radit od  77.27 % koliko je imao kad je samo bil treniran na train datasetu i onda testiran na \"dataset_test_easy.csv\"\n"
   ]
  },
  {
   "cell_type": "code",
   "id": "3e5020d1bbc8039e",
   "metadata": {
    "ExecuteTime": {
     "end_time": "2025-09-18T23:55:24.536034Z",
     "start_time": "2025-09-18T23:55:24.524001Z"
    }
   },
   "source": [
    "x1, y1 = data_handler.get_train_data_xy()\n",
    "x2, y2 = data_handler.get_test_data_hard_xy()\n",
    "\n",
    "x = pd.concat([x1, x2], ignore_index=True)\n",
    "y = pd.concat([y1, y2], ignore_index=True)\n",
    "bot_my_version._bundle = bot_my_version._build_pipeline(X = x,y = y)\n"
   ],
   "outputs": [
    {
     "name": "stdout",
     "output_type": "stream",
     "text": [
      "making new pipeline, x: 85 y: 85\n"
     ]
    },
    {
     "name": "stderr",
     "output_type": "stream",
     "text": [
      "/Users/tomislavziger/Developer/rba-chatbot-assignment/.venv/lib/python3.9/site-packages/sklearn/linear_model/_logistic.py:1247: FutureWarning: 'multi_class' was deprecated in version 1.5 and will be removed in 1.7. From then on, it will always use 'multinomial'. Leave it to its default value to avoid this warning.\n",
      "  warnings.warn(\n"
     ]
    }
   ],
   "execution_count": 4
  },
  {
   "cell_type": "code",
   "id": "26c4bc08416cf675",
   "metadata": {
    "ExecuteTime": {
     "end_time": "2025-09-18T23:55:24.545011Z",
     "start_time": "2025-09-18T23:55:24.537403Z"
    }
   },
   "source": [
    "x,y = data_handler.get_test_data_easy_xy()\n",
    "print(\"Točnost: \", get_accuracy(x,y) * 100 , \"%\")\n"
   ],
   "outputs": [
    {
     "name": "stdout",
     "output_type": "stream",
     "text": [
      "Točnost:  86.36363636363636 %\n"
     ]
    }
   ],
   "execution_count": 5
  },
  {
   "cell_type": "markdown",
   "id": "5155e59dff153c8",
   "metadata": {},
   "source": [
    "Evo sa 77.27% na 86.36% smo uspjeli točnost povećati samo sa većim datasetom\n",
    "\n",
    "\n",
    "Zanimljivo bi bilo testirati kakva je točnost na test_hard ako treniramo sa test_easy i train, samo sa train je bila jako loša točnost 22.22%\n"
   ]
  },
  {
   "cell_type": "code",
   "id": "7cd4aba0c43c3242",
   "metadata": {
    "ExecuteTime": {
     "end_time": "2025-09-18T23:55:24.562056Z",
     "start_time": "2025-09-18T23:55:24.545598Z"
    }
   },
   "source": [
    "x1, y1 = data_handler.get_train_data_xy()\n",
    "x2, y2 = data_handler.get_test_data_easy_xy()\n",
    "\n",
    "x = pd.concat([x1, x2], ignore_index=True)\n",
    "y = pd.concat([y1, y2], ignore_index=True)\n",
    "bot_my_version._bundle = bot_my_version._build_pipeline(X = x,y = y)\n",
    "\n",
    "x,y = data_handler.get_test_data_hard_xy()\n",
    "print(\"Točnost :\", get_accuracy(x,y) * 100 , \"%\")\n"
   ],
   "outputs": [
    {
     "name": "stdout",
     "output_type": "stream",
     "text": [
      "making new pipeline, x: 44 y: 44\n",
      "Točnost : 41.269841269841265 %\n"
     ]
    },
    {
     "name": "stderr",
     "output_type": "stream",
     "text": [
      "/Users/tomislavziger/Developer/rba-chatbot-assignment/.venv/lib/python3.9/site-packages/sklearn/linear_model/_logistic.py:1247: FutureWarning: 'multi_class' was deprecated in version 1.5 and will be removed in 1.7. From then on, it will always use 'multinomial'. Leave it to its default value to avoid this warning.\n",
      "  warnings.warn(\n"
     ]
    }
   ],
   "execution_count": 6
  },
  {
   "cell_type": "markdown",
   "id": "c10abc046f42e99",
   "metadata": {},
   "source": [
    "vidimo da i ovdje veći dataset daje bolje rezultate od 41.27 % u odnosu na prijašnjih 22.22% kad je trenirano samo s originalnim train datasetom\n",
    "\n"
   ]
  },
  {
   "metadata": {},
   "cell_type": "markdown",
   "source": "Sad kad smo vidli da veći dataset daje bolje rezultate, idemo spojiti sve u jedan veliki dataset i nasumicno podijelit na train i test, prije nego krenemo dalje",
   "id": "2c1994c442ff0c99"
  },
  {
   "cell_type": "code",
   "id": "3e0dd2ab38875286",
   "metadata": {
    "ExecuteTime": {
     "end_time": "2025-09-18T23:55:24.566642Z",
     "start_time": "2025-09-18T23:55:24.562681Z"
    }
   },
   "source": [
    "from sklearn.model_selection import train_test_split\n",
    "\n",
    "x, y = data_handler.get_combined_data_xy()\n",
    "\n",
    "X_train, X_test, y_train, y_test = train_test_split(x, y, test_size=0.2, shuffle=True, random_state=42, stratify=y)\n",
    "\n",
    "print(\"duljina train skupa\", len(X_train))\n",
    "print(\"duljina test skupa\",len(X_test))\n",
    "\n",
    "\n"
   ],
   "outputs": [
    {
     "name": "stdout",
     "output_type": "stream",
     "text": [
      "duljina train skupa 85\n",
      "duljina test skupa 22\n"
     ]
    }
   ],
   "execution_count": 7
  },
  {
   "metadata": {},
   "cell_type": "markdown",
   "source": "i sad vidimo koji je rezultat za nasumičnu podjelu",
   "id": "6490f1dd4eb258a8"
  },
  {
   "metadata": {
    "ExecuteTime": {
     "end_time": "2025-09-18T23:55:24.577842Z",
     "start_time": "2025-09-18T23:55:24.567324Z"
    }
   },
   "cell_type": "code",
   "source": [
    "bot_my_version._bundle = bot_my_version._build_pipeline(X = X_train,y = y_train)\n",
    "print(\"Accuracy :\", get_accuracy(X_test,y_test) * 100 , \"%\")"
   ],
   "id": "a0a05cbc7ab4eb67",
   "outputs": [
    {
     "name": "stdout",
     "output_type": "stream",
     "text": [
      "making new pipeline, x: 85 y: 85\n",
      "Accuracy : 72.72727272727273 %\n"
     ]
    },
    {
     "name": "stderr",
     "output_type": "stream",
     "text": [
      "/Users/tomislavziger/Developer/rba-chatbot-assignment/.venv/lib/python3.9/site-packages/sklearn/linear_model/_logistic.py:1247: FutureWarning: 'multi_class' was deprecated in version 1.5 and will be removed in 1.7. From then on, it will always use 'multinomial'. Leave it to its default value to avoid this warning.\n",
      "  warnings.warn(\n"
     ]
    }
   ],
   "execution_count": 8
  },
  {
   "metadata": {},
   "cell_type": "markdown",
   "source": [
    "### Proširivanje skupa podataka\n",
    "\n",
    "Sada idemo krenuti proširivati naš skup podataka u nadi da će poboljšati naše rezultate"
   ],
   "id": "21fbcef6481f4d21"
  },
  {
   "metadata": {
    "ExecuteTime": {
     "end_time": "2025-09-18T23:55:24.580074Z",
     "start_time": "2025-09-18T23:55:24.578626Z"
    }
   },
   "cell_type": "code",
   "source": [
    "data_augmenter = util.DataAugmenter()\n",
    "\n",
    "print(type(X_train))"
   ],
   "id": "7ff1b6d7852c3d14",
   "outputs": [
    {
     "name": "stdout",
     "output_type": "stream",
     "text": [
      "<class 'pandas.core.series.Series'>\n"
     ]
    }
   ],
   "execution_count": 9
  },
  {
   "metadata": {
    "ExecuteTime": {
     "end_time": "2025-09-18T23:56:32.779225Z",
     "start_time": "2025-09-18T23:56:32.774027Z"
    }
   },
   "cell_type": "code",
   "source": [
    "X,y = data_augmenter.remove_first(X_train,y_train)\n",
    "\n",
    "print(X)\n",
    "print(y)\n",
    "    "
   ],
   "id": "d548defe005f4f7c",
   "outputs": [
    {
     "name": "stdout",
     "output_type": "stream",
     "text": [
      "0                                 dje mogu popiti kavu?\n",
      "1                           mate li popust za studente?\n",
      "2     mam osobnog asistenta zbog invaliditeta, jel m...\n",
      "3                         ostoji li popust za studente?\n",
      "4     mam ozljedu koljena od previše igranja šaha i ...\n",
      "                            ...                        \n",
      "80              el ima gdi u muzeju za kupit grickalice\n",
      "81                       ostoji li popust za branitelje\n",
      "82    ntschuldigung, Ja biti Stefan iz Minken, imati...\n",
      "83    olika je cijena članarine, ja sam inače nećak ...\n",
      "84                           el ima popust za invalide?\n",
      "Length: 85, dtype: object\n",
      "0             kafic\n",
      "1          ulaznice\n",
      "2     pristupacnost\n",
      "3          ulaznice\n",
      "4     pristupacnost\n",
      "          ...      \n",
      "80            kafic\n",
      "81         ulaznice\n",
      "82          kontakt\n",
      "83         clanstvo\n",
      "84         ulaznice\n",
      "Length: 85, dtype: object\n"
     ]
    }
   ],
   "execution_count": 11
  },
  {
   "metadata": {},
   "cell_type": "code",
   "outputs": [],
   "execution_count": null,
   "source": "",
   "id": "c0935acb492daae4"
  }
 ],
 "metadata": {
  "kernelspec": {
   "display_name": "Python 3",
   "language": "python",
   "name": "python3"
  },
  "language_info": {
   "codemirror_mode": {
    "name": "ipython",
    "version": 2
   },
   "file_extension": ".py",
   "mimetype": "text/x-python",
   "name": "python",
   "nbconvert_exporter": "python",
   "pygments_lexer": "ipython2",
   "version": "2.7.6"
  }
 },
 "nbformat": 4,
 "nbformat_minor": 5
}
