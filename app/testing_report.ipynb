{
 "cells": [
  {
   "cell_type": "markdown",
   "id": "8e10727fcced27fc",
   "metadata": {},
   "source": [
    "# Izvještaj chatbot zadatak RBA\n",
    "\n",
    "##### Tomislav Žiger\n",
    " "
   ]
  },
  {
   "cell_type": "code",
   "id": "c48fba9cad3bab59",
   "metadata": {
    "ExecuteTime": {
     "end_time": "2025-09-18T22:59:23.085881Z",
     "start_time": "2025-09-18T22:59:22.779717Z"
    }
   },
   "source": [
    "import requests\n",
    "from models import PromptRequest, PromptResponse\n",
    "import os\n",
    "from dotenv import load_dotenv\n",
    "from util import ChatbotService, DataHandler\n"
   ],
   "outputs": [],
   "execution_count": 2
  },
  {
   "cell_type": "markdown",
   "id": "12e2eb05333b4999",
   "metadata": {},
   "source": [
    "U util file-u sam složio klasu ChatbotService koji olakšava pozive na backend i klasu DataHandler s kojom manipuliram svojim testnim podacima\n"
   ]
  },
  {
   "cell_type": "code",
   "id": "2a2e57cceab74e12",
   "metadata": {
    "ExecuteTime": {
     "end_time": "2025-09-18T22:59:24.175271Z",
     "start_time": "2025-09-18T22:59:24.169144Z"
    }
   },
   "source": [
    "service = ChatbotService(use_local=True)\n",
    "data_handler = DataHandler()"
   ],
   "outputs": [],
   "execution_count": 3
  },
  {
   "cell_type": "markdown",
   "id": "f2c7b0ef476963bc",
   "metadata": {},
   "source": [
    "Ovdje sam dodao samo malu metodu koja poziva service za svaki x i vraća točnost"
   ]
  },
  {
   "cell_type": "code",
   "id": "9b09fb5a52b61ab5",
   "metadata": {
    "ExecuteTime": {
     "end_time": "2025-09-18T22:59:29.298687Z",
     "start_time": "2025-09-18T22:59:29.296332Z"
    }
   },
   "source": [
    "def get_accuracy(x, y):\n",
    "    count = 0\n",
    "    for message, intent in zip(x, y):\n",
    "        pred = service.get_intent(message)\n",
    "        if pred == intent:\n",
    "            count += 1\n",
    "    return count / len(x)"
   ],
   "outputs": [],
   "execution_count": 4
  },
  {
   "cell_type": "markdown",
   "id": "eedd681a8a72709a",
   "metadata": {},
   "source": "Prvo sam napravio možda malo preambiciozni testni skup podataka u fileu \"dataset_test_hard.csv\" koji je bio pretežak za model"
  },
  {
   "cell_type": "code",
   "id": "253645976f7244be",
   "metadata": {
    "ExecuteTime": {
     "end_time": "2025-09-18T22:59:30.827419Z",
     "start_time": "2025-09-18T22:59:30.644450Z"
    }
   },
   "source": [
    "x,y = data_handler.get_test_data_hard_xy()\n",
    "accuracy = get_accuracy(x,y)\n",
    "print(\"Točnost na testnom skupu dataset_test_hard.csv:\",accuracy * 100, \"%\")\n"
   ],
   "outputs": [
    {
     "name": "stdout",
     "output_type": "stream",
     "text": [
      "Točnost na testnom skupu dataset_test_hard.csv: 22.22222222222222 %\n"
     ]
    }
   ],
   "execution_count": 5
  },
  {
   "cell_type": "markdown",
   "id": "7c5b70a8d670f2a6",
   "metadata": {},
   "source": [
    "Tako da sam sljedeće napravio jednostavniji testni skup dataset_test_easy.csv i na njemu dobio bolji rezultat"
   ]
  },
  {
   "cell_type": "code",
   "id": "bd18e72b9b4ba69",
   "metadata": {
    "ExecuteTime": {
     "end_time": "2025-09-18T22:59:42.570241Z",
     "start_time": "2025-09-18T22:59:42.485124Z"
    }
   },
   "source": [
    "x,y = data_handler.get_test_data_easy_xy()\n",
    "accuracy = get_accuracy(x,y)\n",
    "print(\"Točnost na testnom skupu dataset_test_easy.csv:\",accuracy * 100, \"%\")"
   ],
   "outputs": [
    {
     "name": "stdout",
     "output_type": "stream",
     "text": [
      "Točnost na testnom skupu dataset_test_easy.csv: 77.27272727272727 %\n"
     ]
    }
   ],
   "execution_count": 6
  },
  {
   "cell_type": "markdown",
   "id": "426c8da8e911bca5",
   "metadata": {},
   "source": [
    "Pa pogledajmo detaljnije greške"
   ]
  },
  {
   "cell_type": "code",
   "id": "876ac64dab13d202",
   "metadata": {
    "ExecuteTime": {
     "end_time": "2025-09-18T22:59:45.594986Z",
     "start_time": "2025-09-18T22:59:45.482079Z"
    }
   },
   "source": [
    "x,y = data_handler.get_test_data_easy_xy()\n",
    "count = 1\n",
    "for message, intent in zip(x, y):\n",
    "    pred = service.get_intent(message)\n",
    "    \n",
    "    if pred != intent:\n",
    "        full_response = service.get_full_response(message)\n",
    "        print(\"Greška broj:\", count)\n",
    "        print(\"Krivo klasificirana poruka:\", message)\n",
    "        print(\"Predikcija:\", pred)\n",
    "        print(\"Točna vrijednost:\", intent)\n",
    "        print(\"Vjerojatnosti: \", full_response.probs)\n",
    "        count += 1"
   ],
   "outputs": [
    {
     "name": "stdout",
     "output_type": "stream",
     "text": [
      "Greška broj: 1\n",
      "Krivo klasificirana poruka: Gdje se nalaze toaleti?\n",
      "Predikcija: adresa\n",
      "Točna vrijednost: toaleti\n",
      "Vjerojatnosti:  {'adresa': 0.1419696399559988, 'clanstvo': 0.08222454052391313, 'danas_izlozbe': 0.08030585846595743, 'kafic': 0.08580891304156278, 'kontakt': 0.08252249016131535, 'parking': 0.08861330434977256, 'pristupacnost': 0.07959830415871569, 'radno_vrijeme': 0.11908764652662168, 'toaleti': 0.12215527900085106, 'ulaznice': 0.11771402381529152}\n",
      "Greška broj: 2\n",
      "Krivo klasificirana poruka: Jel moguće doći sa invalidskim kolicima?\n",
      "Predikcija: radno_vrijeme\n",
      "Točna vrijednost: pristupacnost\n",
      "Vjerojatnosti:  {'adresa': 0.0917178254017818, 'clanstvo': 0.0920821290837714, 'danas_izlozbe': 0.08978510674392985, 'kafic': 0.0881898149185537, 'kontakt': 0.0926200379947291, 'parking': 0.08937218217730908, 'pristupacnost': 0.0888441800291408, 'radno_vrijeme': 0.13998738233965327, 'toaleti': 0.08943957787117333, 'ulaznice': 0.13796176343995759}\n",
      "Greška broj: 3\n",
      "Krivo klasificirana poruka: Imate li lift?\n",
      "Predikcija: ulaznice\n",
      "Točna vrijednost: pristupacnost\n",
      "Vjerojatnosti:  {'adresa': 0.07567706634182851, 'clanstvo': 0.08562988677825845, 'danas_izlozbe': 0.07421979703557299, 'kafic': 0.12963790391633928, 'kontakt': 0.07631051332448102, 'parking': 0.08380015758772184, 'pristupacnost': 0.1400870921657484, 'radno_vrijeme': 0.10733536600778602, 'toaleti': 0.07406719583689417, 'ulaznice': 0.15323502100536926}\n",
      "Greška broj: 4\n",
      "Krivo klasificirana poruka: Gdi se nalazi parking?\n",
      "Predikcija: radno_vrijeme\n",
      "Točna vrijednost: parking\n",
      "Vjerojatnosti:  {'adresa': 0.11688461378804813, 'clanstvo': 0.08701004687804381, 'danas_izlozbe': 0.0848693493495912, 'kafic': 0.08334055227651328, 'kontakt': 0.08768554581108844, 'parking': 0.1149977730751933, 'pristupacnost': 0.08396727206710977, 'radno_vrijeme': 0.12942460384374146, 'toaleti': 0.08440373531813584, 'ulaznice': 0.12741650759253478}\n",
      "Greška broj: 5\n",
      "Krivo klasificirana poruka: Kolika je cijena članstva?\n",
      "Predikcija: ulaznice\n",
      "Točna vrijednost: clanstvo\n",
      "Vjerojatnosti:  {'adresa': 0.09481911561811372, 'clanstvo': 0.0822699504393754, 'danas_izlozbe': 0.09156844517428195, 'kafic': 0.07897373240985758, 'kontakt': 0.08271213211370253, 'parking': 0.07992058717854597, 'pristupacnost': 0.07961014108870255, 'radno_vrijeme': 0.1378304083789733, 'toaleti': 0.09656805469477563, 'ulaznice': 0.1757274329036714}\n"
     ]
    }
   ],
   "execution_count": 7
  },
  {
   "cell_type": "markdown",
   "id": "c8c747608e3f0ff0",
   "metadata": {},
   "source": [
    "### Ovdje je ispis iz gornje ćelije, samo što sam dodao ispod zašto mislim da je došlo do greške\n",
    "<br>\n",
    "\n",
    "#### Greška broj: 1\n",
    "Krivo klasificirana poruka: Gdje se nalaze toaleti?\n",
    "<br>\n",
    "Predikcija: adresa\n",
    "<br>\n",
    "Točna vrijednost: toaleti\n",
    "<br>\n",
    "Vjerojatnosti:  {'adresa': 0.1419696399559988, 'clanstvo': 0.08222454052391313, 'danas_izlozbe': 0.08030585846595743, 'kafic': 0.08580891304156278, 'kontakt': 0.08252249016131535, 'parking': 0.08861330434977256, 'pristupacnost': 0.07959830415871569, 'radno_vrijeme': 0.11908764652662168, 'toaleti': 0.12215527900085106, 'ulaznice': 0.11771402381529152}\n",
    "<br>\n",
    "\n",
    "#### Objašnjenje:\n",
    "<span style=\"color:green\">Vidimo po vjerojatnostima da je za malo pogriješio model 0.14 je za adresa, a na drugom mjestu sa 0.12222 vjerojatnosti je toaleti. Pretpostavljam da je adresa dobila bolju vjerojatnost jer je u train setu \"Gdje se nalazite?\" označeno s \"adresa\" i onda je model zbog prvih dvije riječi koje su potpuno identične i treća riječ koja je skoro ista odlučio u korist adresa iako imamo čak riječ toaleti u poruci </span>\n",
    "#### Greška broj: 2\n",
    "Krivo klasificirana poruka: Jel moguće doći sa invalidskim kolicima?\n",
    "<br>\n",
    "Predikcija: radno_vrijeme\n",
    "<br>\n",
    "Točna vrijednost: pristupacnost\n",
    "<br>\n",
    "Vjerojatnosti:  {'adresa': 0.0917178254017818, 'clanstvo': 0.0920821290837714, 'danas_izlozbe': 0.08978510674392985, 'kafic': 0.0881898149185537, 'kontakt': 0.0926200379947291, 'parking': 0.08937218217730908, 'pristupacnost': 0.0888441800291408, 'radno_vrijeme': 0.13998738233965327, 'toaleti': 0.08943957787117333, 'ulaznice': 0.13796176343995759}\n",
    "<br>\n",
    "\n",
    "\n",
    "#### Objašnjenje:\n",
    "<span style=\"color:green\">Ovo je teško promašio model, vidimo da na drugom mjestu je \"ulaznice\", a tocan odgovor pristupacnost je najslabija vjerojatnost, mislim da zato jer je u train skupu drugačiji padež \"invalidska kolica\", a ovdje \"sa invalidskim kolicima\" da je model krivo shvatio </span>\n",
    "<br>\n",
    "\n",
    "\n",
    "\n",
    "#### Greška broj: 3\n",
    "Krivo klasificirana poruka: Imate li lift?\n",
    "<br>\n",
    "Predikcija: ulaznice\n",
    "<br>\n",
    "Točna vrijednost: pristupacnost\n",
    "<br>\n",
    "Vjerojatnosti:  {'adresa': 0.07567706634182851, 'clanstvo': 0.08562988677825845, 'danas_izlozbe': 0.07421979703557299, 'kafic': 0.12963790391633928, 'kontakt': 0.07631051332448102, 'parking': 0.08380015758772184, 'pristupacnost': 0.1400870921657484, 'radno_vrijeme': 0.10733536600778602, 'toaleti': 0.07406719583689417, 'ulaznice': 0.15323502100536926}\n",
    "<br>\n",
    "#### Objašnjenje:\n",
    "<span style=\"color:green\">Ovo sam i očekivao da će pogriješiti jer sam namjerno stavio sinonim za dizalo \"lift\" koji nije u train skupu, tako da bilo bi dobro dodati sinonime u train skup </span>\n",
    "<br>\n",
    "#### Greška broj: 4\n",
    "Krivo klasificirana poruka: Gdi se nalazi parking?\n",
    "<br>\n",
    "Predikcija: radno_vrijeme\n",
    "<br>\n",
    "Točna vrijednost: parking\n",
    "<br>\n",
    "Vjerojatnosti:  {'adresa': 0.11688461378804813, 'clanstvo': 0.08701004687804381, 'danas_izlozbe': 0.0848693493495912, 'kafic': 0.08334055227651328, 'kontakt': 0.08768554581108844, 'parking': 0.1149977730751933, 'pristupacnost': 0.08396727206710977, 'radno_vrijeme': 0.12942460384374146, 'toaleti': 0.08440373531813584, 'ulaznice': 0.12741650759253478}\n",
    "<br>\n",
    "\n",
    "\n",
    "#### Objašnjenje:\n",
    "<span style=\"color:green\">Vidimo po vjerojatnostima da je imao dosta visoko parking, ali zašto je odredio radno-vrijeme nije mi jasno</span>\n",
    "<br>\n",
    "\n",
    "#### Greška broj: 5\n",
    "Krivo klasificirana poruka: Kolika je cijena članstva?\n",
    "<br>\n",
    "Predikcija: ulaznice\n",
    "<br>\n",
    "Točna vrijednost: clanstvo\n",
    "<br>\n",
    "Vjerojatnosti:  {'adresa': 0.09481911561811372, 'clanstvo': 0.0822699504393754, 'danas_izlozbe': 0.09156844517428195, 'kafic': 0.07897373240985758, 'kontakt': 0.08271213211370253, 'parking': 0.07992058717854597, 'pristupacnost': 0.07961014108870255, 'radno_vrijeme': 0.1378304083789733, 'toaleti': 0.09656805469477563, 'ulaznice': 0.1757274329036714}\n",
    "<br>\n",
    "#### Objašnjenje:\n",
    "<span style=\"color:green\">Riječ cijena nemamo u train skupu za oznaku \"članstvo\", nego samo za \"ulaznice\", pa je model vjerojatno mislio ovo je lagano vidim odmah po cijeni, tako da bi bilo dobro dodati rečenicu sa cijenom i za ostale oznake gdi bi se moglo spominjati cijena</span>\n",
    "<br>\n"
   ]
  },
  {
   "metadata": {},
   "cell_type": "markdown",
   "source": [
    "### Kako biste, na temelju rezultata testiranja, mogli poboljšati rad chatbota?\n",
    "Mislim da bi prvo trebalo povećati Train skup za model, neke prijedloge sam napisao već, ali definitivno sinoninime, padeže, uvesti greške... uglavnom puno više primjera\n",
    "<br>\n",
    "<br>\n",
    "\n",
    "### Koja je, prema vama, najslabija točka chatbota i zašto?\n",
    "Mali train skup najveća mana, a sljedeće je možda bi se model mogao poboljšati"
   ],
   "id": "4c32912d8bf4821e"
  },
  {
   "cell_type": "code",
   "id": "353e713150ec0a2f",
   "metadata": {},
   "source": [],
   "outputs": [],
   "execution_count": null
  }
 ],
 "metadata": {
  "kernelspec": {
   "display_name": "Python 3 (ipykernel)",
   "language": "python",
   "name": "python3"
  },
  "language_info": {
   "codemirror_mode": {
    "name": "ipython",
    "version": 3
   },
   "file_extension": ".py",
   "mimetype": "text/x-python",
   "name": "python",
   "nbconvert_exporter": "python",
   "pygments_lexer": "ipython3",
   "version": "3.9.13"
  }
 },
 "nbformat": 4,
 "nbformat_minor": 5
}
