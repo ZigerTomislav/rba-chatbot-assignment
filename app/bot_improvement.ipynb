{
 "cells": [
  {
   "cell_type": "markdown",
   "id": "a6a1bd697b7d5855",
   "metadata": {},
   "source": [
    "# Pokušaj poboljšanja bota\n",
    "Tomislav Žiger"
   ]
  },
  {
   "cell_type": "code",
   "id": "initial_id",
   "metadata": {
    "ExecuteTime": {
     "end_time": "2025-09-19T14:26:40.508390Z",
     "start_time": "2025-09-19T14:26:39.919871Z"
    }
   },
   "source": [
    "import requests\n",
    "import models\n",
    "import os\n",
    "from dotenv import load_dotenv\n",
    "import util\n",
    "import bot_my_version\n",
    "import pandas as pd"
   ],
   "outputs": [],
   "execution_count": 1
  },
  {
   "cell_type": "code",
   "id": "cf2e613ab50bfcf7",
   "metadata": {
    "ExecuteTime": {
     "end_time": "2025-09-19T14:26:40.514342Z",
     "start_time": "2025-09-19T14:26:40.509560Z"
    }
   },
   "source": [
    "data_handler = util.DataHandler()\n",
    "data_augmenter = util.DataAugmenter()"
   ],
   "outputs": [],
   "execution_count": 2
  },
  {
   "cell_type": "markdown",
   "id": "d09a00a547747d5b",
   "metadata": {},
   "source": [
    "Dodajem pomoćnu metodu za accuracy, ovdje ću lokalno testirati \"bot_my_version\" jer mi je jednostavnije, ali naravno možemo ga jednostavno zamijeniti sa originalnim botom i hostati"
   ]
  },
  {
   "cell_type": "code",
   "id": "b7b437e35e212548",
   "metadata": {
    "ExecuteTime": {
     "end_time": "2025-09-19T14:26:40.516826Z",
     "start_time": "2025-09-19T14:26:40.514878Z"
    }
   },
   "source": [
    "def get_accuracy(x, y, bot_version):\n",
    "    count = 0\n",
    "    for message, intent in zip(x, y):\n",
    "        pred_response = bot_version.predict(message)\n",
    "        pred = models.PromptResponse(**pred_response)\n",
    "        if pred.intent == intent:\n",
    "            count += 1\n",
    "    return count / len(x)"
   ],
   "outputs": [],
   "execution_count": 3
  },
  {
   "cell_type": "markdown",
   "id": "40cf791ec280b7a6",
   "metadata": {},
   "source": [
    "Ovdje spajamo train dataset i \"teški\" test dataset (dataset_test_hard.csv), pa želimo vidjeti hoće li model bolje radit od  77.27 % koliko je imao kad je samo bil treniran na train datasetu i onda testiran na \"dataset_test_easy.csv\"\n"
   ]
  },
  {
   "cell_type": "code",
   "id": "3e5020d1bbc8039e",
   "metadata": {
    "ExecuteTime": {
     "end_time": "2025-09-19T14:26:40.528871Z",
     "start_time": "2025-09-19T14:26:40.517477Z"
    }
   },
   "source": [
    "x1, y1 = data_handler.get_train_data_xy()\n",
    "x2, y2 = data_handler.get_test_data_hard_xy()\n",
    "\n",
    "x = pd.concat([x1, x2], ignore_index=True)\n",
    "y = pd.concat([y1, y2], ignore_index=True)\n",
    "bot_my_version._bundle = bot_my_version._build_pipeline(X = x,y = y)\n"
   ],
   "outputs": [
    {
     "name": "stdout",
     "output_type": "stream",
     "text": [
      "making new pipeline, x: 85 y: 85\n"
     ]
    },
    {
     "name": "stderr",
     "output_type": "stream",
     "text": [
      "/Users/tomislavziger/Developer/rba-chatbot-assignment/.venv/lib/python3.9/site-packages/sklearn/linear_model/_logistic.py:1247: FutureWarning: 'multi_class' was deprecated in version 1.5 and will be removed in 1.7. From then on, it will always use 'multinomial'. Leave it to its default value to avoid this warning.\n",
      "  warnings.warn(\n"
     ]
    }
   ],
   "execution_count": 4
  },
  {
   "cell_type": "code",
   "id": "26c4bc08416cf675",
   "metadata": {
    "ExecuteTime": {
     "end_time": "2025-09-19T14:26:40.536949Z",
     "start_time": "2025-09-19T14:26:40.530104Z"
    }
   },
   "source": [
    "x,y = data_handler.get_test_data_easy_xy()\n",
    "print(\"Točnost: \", get_accuracy(x,y, bot_my_version) * 100 , \"%\")\n"
   ],
   "outputs": [
    {
     "name": "stdout",
     "output_type": "stream",
     "text": [
      "Točnost:  86.36363636363636 %\n"
     ]
    }
   ],
   "execution_count": 5
  },
  {
   "cell_type": "markdown",
   "id": "5155e59dff153c8",
   "metadata": {},
   "source": [
    "Evo sa 77.27% na 86.36% smo uspjeli točnost povećati samo sa većim datasetom\n",
    "\n",
    "\n",
    "Zanimljivo bi bilo testirati kakva je točnost na test_hard ako treniramo sa test_easy i train, samo sa train je bila jako loša točnost 22.22%\n"
   ]
  },
  {
   "cell_type": "code",
   "id": "7cd4aba0c43c3242",
   "metadata": {
    "ExecuteTime": {
     "end_time": "2025-09-19T14:26:40.555562Z",
     "start_time": "2025-09-19T14:26:40.537472Z"
    }
   },
   "source": [
    "x1, y1 = data_handler.get_train_data_xy()\n",
    "x2, y2 = data_handler.get_test_data_easy_xy()\n",
    "\n",
    "x = pd.concat([x1, x2], ignore_index=True)\n",
    "y = pd.concat([y1, y2], ignore_index=True)\n",
    "bot_my_version._bundle = bot_my_version._build_pipeline(X = x,y = y)\n",
    "\n",
    "x,y = data_handler.get_test_data_hard_xy()\n",
    "print(\"Točnost :\", get_accuracy(x,y,bot_my_version) * 100 , \"%\")\n"
   ],
   "outputs": [
    {
     "name": "stdout",
     "output_type": "stream",
     "text": [
      "making new pipeline, x: 44 y: 44\n",
      "Točnost : 41.269841269841265 %\n"
     ]
    },
    {
     "name": "stderr",
     "output_type": "stream",
     "text": [
      "/Users/tomislavziger/Developer/rba-chatbot-assignment/.venv/lib/python3.9/site-packages/sklearn/linear_model/_logistic.py:1247: FutureWarning: 'multi_class' was deprecated in version 1.5 and will be removed in 1.7. From then on, it will always use 'multinomial'. Leave it to its default value to avoid this warning.\n",
      "  warnings.warn(\n"
     ]
    }
   ],
   "execution_count": 6
  },
  {
   "cell_type": "markdown",
   "id": "c10abc046f42e99",
   "metadata": {},
   "source": [
    "vidimo da i ovdje veći dataset daje bolje rezultate od 41.27 % u odnosu na prijašnjih 22.22% kad je trenirano samo s originalnim train datasetom\n",
    "\n"
   ]
  },
  {
   "metadata": {},
   "cell_type": "markdown",
   "source": "Sad kad smo vidli da veći dataset daje bolje rezultate, idemo spojiti sve u jedan veliki dataset i nasumicno podijelit na train i test, prije nego krenemo dalje",
   "id": "2c1994c442ff0c99"
  },
  {
   "cell_type": "code",
   "id": "3e0dd2ab38875286",
   "metadata": {
    "ExecuteTime": {
     "end_time": "2025-09-19T14:26:40.560554Z",
     "start_time": "2025-09-19T14:26:40.556245Z"
    }
   },
   "source": [
    "from sklearn.model_selection import train_test_split\n",
    "\n",
    "x, y = data_handler.get_combined_data_xy()\n",
    "\n",
    "X_train, X_test, y_train, y_test = train_test_split(x, y, test_size=0.2, shuffle=True, random_state=42, stratify=y)\n",
    "\n",
    "print(\"duljina train skupa\", len(X_train))\n",
    "print(\"duljina test skupa\",len(X_test))"
   ],
   "outputs": [
    {
     "name": "stdout",
     "output_type": "stream",
     "text": [
      "duljina train skupa 85\n",
      "duljina test skupa 22\n"
     ]
    }
   ],
   "execution_count": 7
  },
  {
   "metadata": {},
   "cell_type": "markdown",
   "source": "i sad vidimo koji je rezultat za nasumičnu podjelu",
   "id": "6490f1dd4eb258a8"
  },
  {
   "metadata": {
    "ExecuteTime": {
     "end_time": "2025-09-19T14:26:40.572996Z",
     "start_time": "2025-09-19T14:26:40.561185Z"
    }
   },
   "cell_type": "code",
   "source": [
    "bot_my_version._bundle = bot_my_version._build_pipeline(X = X_train,y = y_train)\n",
    "print(\"Accuracy :\", get_accuracy(X_test,y_test, bot_my_version) * 100 , \"%\")"
   ],
   "id": "a0a05cbc7ab4eb67",
   "outputs": [
    {
     "name": "stdout",
     "output_type": "stream",
     "text": [
      "making new pipeline, x: 85 y: 85\n",
      "Accuracy : 72.72727272727273 %\n"
     ]
    },
    {
     "name": "stderr",
     "output_type": "stream",
     "text": [
      "/Users/tomislavziger/Developer/rba-chatbot-assignment/.venv/lib/python3.9/site-packages/sklearn/linear_model/_logistic.py:1247: FutureWarning: 'multi_class' was deprecated in version 1.5 and will be removed in 1.7. From then on, it will always use 'multinomial'. Leave it to its default value to avoid this warning.\n",
      "  warnings.warn(\n"
     ]
    }
   ],
   "execution_count": 8
  },
  {
   "metadata": {},
   "cell_type": "markdown",
   "source": [
    "### Proširivanje skupa podataka\n",
    "\n",
    "Sada idemo krenuti proširivati naš skup podataka u nadi da će poboljšati naše rezultate"
   ],
   "id": "21fbcef6481f4d21"
  },
  {
   "metadata": {
    "ExecuteTime": {
     "end_time": "2025-09-19T14:26:40.576514Z",
     "start_time": "2025-09-19T14:26:40.573824Z"
    }
   },
   "cell_type": "code",
   "source": [
    "data_augmenter = util.DataAugmenter()\n",
    "\n",
    "print(type(X_train))"
   ],
   "id": "7ff1b6d7852c3d14",
   "outputs": [
    {
     "name": "stdout",
     "output_type": "stream",
     "text": [
      "<class 'pandas.core.series.Series'>\n"
     ]
    }
   ],
   "execution_count": 9
  },
  {
   "metadata": {},
   "cell_type": "markdown",
   "source": "Ovdje ćemo probati jednostavno proširenje dodati ćemo u train da maknemo samo prvo slovo sa metodom remove_first() i dodamo u train set",
   "id": "545100e29048113a"
  },
  {
   "metadata": {
    "ExecuteTime": {
     "end_time": "2025-09-19T14:26:40.604268Z",
     "start_time": "2025-09-19T14:26:40.577029Z"
    }
   },
   "cell_type": "code",
   "source": [
    "x, y = data_handler.get_combined_data_xy()\n",
    "\n",
    "X_train, X_test, y_train, y_test = train_test_split(x, y, test_size=0.2, shuffle=True, random_state=42, stratify=y)\n",
    "\n",
    "bot_my_version._bundle = bot_my_version._build_pipeline(X = X_train, y = y_train)\n",
    "print(\"Točnost prije augmentacije train :\", get_accuracy(X_test,y_test, bot_my_version) * 100 , \"%\")\n",
    "\n",
    "#augment\n",
    "x,y = data_augmenter.remove_first(X_train,y_train)\n",
    "\n",
    "X_train = pd.concat([X_train, x], ignore_index=True)\n",
    "y_train = pd.concat([y_train, y], ignore_index=True)\n",
    "\n",
    "bot_my_version._bundle = bot_my_version._build_pipeline(X = X_train, y = y_train)\n",
    "\n",
    "print(\"Točnost poslije augmentacije train :\", get_accuracy(X_test,y_test,bot_my_version) * 100 , \"%\")\n",
    "\n",
    "    "
   ],
   "id": "d548defe005f4f7c",
   "outputs": [
    {
     "name": "stdout",
     "output_type": "stream",
     "text": [
      "making new pipeline, x: 85 y: 85\n",
      "Točnost prije augmentacije train : 72.72727272727273 %\n",
      "making new pipeline, x: 170 y: 170\n",
      "Točnost poslije augmentacije train : 68.18181818181817 %\n"
     ]
    },
    {
     "name": "stderr",
     "output_type": "stream",
     "text": [
      "/Users/tomislavziger/Developer/rba-chatbot-assignment/.venv/lib/python3.9/site-packages/sklearn/linear_model/_logistic.py:1247: FutureWarning: 'multi_class' was deprecated in version 1.5 and will be removed in 1.7. From then on, it will always use 'multinomial'. Leave it to its default value to avoid this warning.\n",
      "  warnings.warn(\n",
      "/Users/tomislavziger/Developer/rba-chatbot-assignment/.venv/lib/python3.9/site-packages/sklearn/linear_model/_logistic.py:1247: FutureWarning: 'multi_class' was deprecated in version 1.5 and will be removed in 1.7. From then on, it will always use 'multinomial'. Leave it to its default value to avoid this warning.\n",
      "  warnings.warn(\n"
     ]
    }
   ],
   "execution_count": 10
  },
  {
   "metadata": {},
   "cell_type": "markdown",
   "source": [
    "Vidimo da je to pogoršalo naš rezultat, pa ajmo probati neki drugi pristup\n",
    "\n",
    "Sljedeće za svaku riječ izbacujemo slovo jedno, da simuliramo kako bi korisnik mogao pogriješiti u pisanju rečenice\n",
    "\n",
    "Primjer:\n",
    "<br> \n",
    "prije: \"Kolika je cijena ulaznice?\"\n",
    "<br>\n",
    "nakon: \"olika je cijena ulaznice?\", \"Klika je cijena ulaznice?\"....\n",
    "\n"
   ],
   "id": "c002fc2390fa3dd8"
  },
  {
   "metadata": {
    "ExecuteTime": {
     "end_time": "2025-09-19T14:26:40.866472Z",
     "start_time": "2025-09-19T14:26:40.604827Z"
    }
   },
   "cell_type": "code",
   "source": [
    "x, y = data_handler.get_combined_data_xy()\n",
    "\n",
    "X_train, X_test, y_train, y_test = train_test_split(x, y, test_size=0.2, shuffle=True, random_state=42, stratify=y)\n",
    "\n",
    "bot_my_version._bundle = bot_my_version._build_pipeline(X = X_train, y = y_train)\n",
    "print(\"Točnost prije augmentacije train :\", get_accuracy(X_test,y_test,bot_my_version) * 100 , \"%\")\n",
    "\n",
    "#augment\n",
    "x,y = data_augmenter.remove_one(X_train,y_train)\n",
    "\n",
    "X_train = pd.concat([X_train, x], ignore_index=True)\n",
    "y_train = pd.concat([y_train, y], ignore_index=True)\n",
    "\n",
    "bot_my_version._bundle = bot_my_version._build_pipeline(X = X_train, y = y_train)\n",
    "\n",
    "print(\"Točnost poslije augmentacije train :\", get_accuracy(X_test,y_test,bot_my_version) * 100 , \"%\")\n",
    "\n",
    "    "
   ],
   "id": "2d4eff336baa3b7e",
   "outputs": [
    {
     "name": "stdout",
     "output_type": "stream",
     "text": [
      "making new pipeline, x: 85 y: 85\n",
      "Točnost prije augmentacije train : 72.72727272727273 %\n",
      "making new pipeline, x: 2695 y: 2695\n"
     ]
    },
    {
     "name": "stderr",
     "output_type": "stream",
     "text": [
      "/Users/tomislavziger/Developer/rba-chatbot-assignment/.venv/lib/python3.9/site-packages/sklearn/linear_model/_logistic.py:1247: FutureWarning: 'multi_class' was deprecated in version 1.5 and will be removed in 1.7. From then on, it will always use 'multinomial'. Leave it to its default value to avoid this warning.\n",
      "  warnings.warn(\n",
      "/Users/tomislavziger/Developer/rba-chatbot-assignment/.venv/lib/python3.9/site-packages/sklearn/linear_model/_logistic.py:1247: FutureWarning: 'multi_class' was deprecated in version 1.5 and will be removed in 1.7. From then on, it will always use 'multinomial'. Leave it to its default value to avoid this warning.\n",
      "  warnings.warn(\n"
     ]
    },
    {
     "name": "stdout",
     "output_type": "stream",
     "text": [
      "Točnost poslije augmentacije train : 68.18181818181817 %\n"
     ]
    }
   ],
   "execution_count": 11
  },
  {
   "metadata": {},
   "cell_type": "markdown",
   "source": [
    "Izgleda da izbacivanje slova iz rečenica ne poboljšava rezultat\n",
    "\n",
    "Sljedeće što ću isprobati je promjena hrvatskih znakova(č,ć,ž,š,đ) mnogi korisnici ih ne pišu ili imaju tipkovnice koje nemaju te znakove.\n",
    "\n",
    "Primjer: \n",
    "<br>\n",
    "prije: \"Jel ima u muzeju kafić?\"\n",
    "<br>\n",
    "nakon: \"Jel ima u muzeju kafic?\"\n",
    "\n",
    "\n"
   ],
   "id": "28cecc6d8be8f303"
  },
  {
   "metadata": {
    "ExecuteTime": {
     "end_time": "2025-09-19T14:26:40.909729Z",
     "start_time": "2025-09-19T14:26:40.869038Z"
    }
   },
   "cell_type": "code",
   "source": [
    "x, y = data_handler.get_combined_data_xy()\n",
    "\n",
    "X_train, X_test, y_train, y_test = train_test_split(x, y, test_size=0.2, shuffle=True, random_state=42, stratify=y)\n",
    "\n",
    "bot_my_version._bundle = bot_my_version._build_pipeline(X = X_train, y = y_train)\n",
    "print(\"Točnost prije augmentacije train :\", get_accuracy(X_test,y_test,bot_my_version) * 100 , \"%\")\n",
    "\n",
    "#augment\n",
    "x,y = data_augmenter.remove_croatian(X_train,y_train)\n",
    "\n",
    "X_train = pd.concat([X_train, x], ignore_index=True)\n",
    "y_train = pd.concat([y_train, y], ignore_index=True)\n",
    "\n",
    "bot_my_version._bundle = bot_my_version._build_pipeline(X = X_train, y = y_train)\n",
    "\n",
    "print(\"Točnost poslije augmentacije train :\", get_accuracy(X_test,y_test,bot_my_version) * 100 , \"%\")"
   ],
   "id": "9476c64e9e6cfda5",
   "outputs": [
    {
     "name": "stdout",
     "output_type": "stream",
     "text": [
      "making new pipeline, x: 85 y: 85\n",
      "Točnost prije augmentacije train : 72.72727272727273 %\n",
      "making new pipeline, x: 120 y: 120\n",
      "Točnost poslije augmentacije train : 54.54545454545454 %\n"
     ]
    },
    {
     "name": "stderr",
     "output_type": "stream",
     "text": [
      "/Users/tomislavziger/Developer/rba-chatbot-assignment/.venv/lib/python3.9/site-packages/sklearn/linear_model/_logistic.py:1247: FutureWarning: 'multi_class' was deprecated in version 1.5 and will be removed in 1.7. From then on, it will always use 'multinomial'. Leave it to its default value to avoid this warning.\n",
      "  warnings.warn(\n",
      "/Users/tomislavziger/Developer/rba-chatbot-assignment/.venv/lib/python3.9/site-packages/sklearn/linear_model/_logistic.py:1247: FutureWarning: 'multi_class' was deprecated in version 1.5 and will be removed in 1.7. From then on, it will always use 'multinomial'. Leave it to its default value to avoid this warning.\n",
      "  warnings.warn(\n"
     ]
    }
   ],
   "execution_count": 12
  },
  {
   "metadata": {},
   "cell_type": "markdown",
   "source": [
    "Idemo sad probat drukčiji model od multinomijalne regresije\n",
    "\n",
    "Koristit ću XGboost, jedan od popularnijih modela za klasifikaciju, kopirao sam kod bot.py u bot_new_model.py i promijenio regresiju u xgboost\n",
    "\n"
   ],
   "id": "62155f15d05ea92e"
  },
  {
   "metadata": {
    "ExecuteTime": {
     "end_time": "2025-09-19T14:26:41.096406Z",
     "start_time": "2025-09-19T14:26:40.912165Z"
    }
   },
   "cell_type": "code",
   "source": [
    "import bot_new_model\n",
    "\n",
    "x, y = data_handler.get_combined_data_xy()\n",
    "\n",
    "X_train, X_test, y_train, y_test = train_test_split(x, y, test_size=0.2, shuffle=True, random_state=42, stratify=y)\n",
    "\n",
    "bot_new_model._bundle = bot_new_model._build_pipeline(X = X_train, y = y_train)\n",
    "print(\"Točnost prije augmentacije train :\", get_accuracy(X_test,y_test,bot_new_model) * 100 , \"%\")"
   ],
   "id": "3bffe56543f4d8ec",
   "outputs": [
    {
     "name": "stdout",
     "output_type": "stream",
     "text": [
      "making new pipeline, x: 85 y: 85\n",
      "Točnost prije augmentacije train : 22.727272727272727 %\n"
     ]
    }
   ],
   "execution_count": 13
  },
  {
   "metadata": {
    "ExecuteTime": {
     "end_time": "2025-09-19T14:26:41.231851Z",
     "start_time": "2025-09-19T14:26:41.106272Z"
    }
   },
   "cell_type": "code",
   "source": [
    "x,y = data_augmenter.remove_one(X_train,y_train)\n",
    "\n",
    "X_train = pd.concat([X_train, x], ignore_index=True)\n",
    "y_train = pd.concat([y_train, y], ignore_index=True)\n",
    "\n",
    "bot_new_model._bundle = bot_new_model._build_pipeline(X = X_train, y = y_train)\n",
    "\n",
    "print(\"Točnost poslije augmentacije train :\", get_accuracy(X_test,y_test,bot_new_model) * 100 , \"%\")\n",
    "\n",
    "    "
   ],
   "id": "2413381ada3d8363",
   "outputs": [
    {
     "name": "stdout",
     "output_type": "stream",
     "text": [
      "making new pipeline, x: 2695 y: 2695\n",
      "Točnost poslije augmentacije train : 63.63636363636363 %\n"
     ]
    }
   ],
   "execution_count": 14
  },
  {
   "metadata": {
    "ExecuteTime": {
     "end_time": "2025-09-19T14:26:41.233559Z",
     "start_time": "2025-09-19T14:26:41.232466Z"
    }
   },
   "cell_type": "code",
   "source": "",
   "id": "cd605f6e737315dc",
   "outputs": [],
   "execution_count": 14
  }
 ],
 "metadata": {
  "kernelspec": {
   "display_name": "Python 3",
   "language": "python",
   "name": "python3"
  },
  "language_info": {
   "codemirror_mode": {
    "name": "ipython",
    "version": 2
   },
   "file_extension": ".py",
   "mimetype": "text/x-python",
   "name": "python",
   "nbconvert_exporter": "python",
   "pygments_lexer": "ipython2",
   "version": "2.7.6"
  }
 },
 "nbformat": 4,
 "nbformat_minor": 5
}
